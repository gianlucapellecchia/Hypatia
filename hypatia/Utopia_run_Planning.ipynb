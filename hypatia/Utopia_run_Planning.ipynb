{
 "cells": [
  {
   "cell_type": "code",
   "execution_count": null,
   "id": "a804b278",
   "metadata": {},
   "outputs": [],
   "source": [
    "\"\"\"\n",
    "Utopia MODEL\n",
    "Planning mode\n",
    "\"\"\"\n",
    "\n",
    "# Import of the Model\n",
    "\n",
    "from hypatia import Model\n",
    "import os\n",
    "from hypatia import Merge_results\n",
    "from hypatia import Plotter"
   ]
  },
  {
   "cell_type": "code",
   "execution_count": null,
   "id": "571cd856",
   "metadata": {},
   "outputs": [],
   "source": [
    "# Create the model using as input the sets files\n",
    "\n",
    "Utopia = Model(\n",
    "    path=\"examples/Planning/sets_planning\",                             # Path to the sets folder\n",
    "    mode=\"Planning\",                                                    # \"Planning\" or \"Operation\" mode\n",
    ")"
   ]
  },
  {
   "cell_type": "code",
   "execution_count": null,
   "id": "51c279a1",
   "metadata": {},
   "outputs": [],
   "source": [
    "# Create the parameters with default values\n",
    "\n",
    "Utopia.create_data_excels(\n",
    "    path ='examples\\Planning\\parameters_planning',                      # Path to the parameters folder\n",
    "    force_rewrite=True                                                  # Overwrite the parameters files (True) or not (False)\n",
    ")"
   ]
  },
  {
   "cell_type": "code",
   "execution_count": null,
   "id": "2d080242",
   "metadata": {},
   "outputs": [],
   "source": [
    "# Read the parameters\n",
    "\n",
    "Utopia.read_input_data(\"examples\\Planning\\parameters_planning\")         # Path to the parameters folder"
   ]
  },
  {
   "cell_type": "code",
   "execution_count": null,
   "id": "6d8951e4",
   "metadata": {},
   "outputs": [],
   "source": [
    "# Run the model to find the optimal solution\n",
    "\n",
    "Utopia.run(\n",
    "    solver='gurobi',                                                    # Selection of the solver: 'GUROBI', 'CVXOPT', 'ECOS', 'ECOS_BB', 'GLPK', 'GLPK_MI', 'OSQP', 'SCIPY', 'SCS’\n",
    "    verbosity=True,\n",
    "    force_rewrite= True                                                 # Overwrite the parameters files (True) or not (False)\n",
    ")"
   ]
  },
  {
   "cell_type": "code",
   "execution_count": null,
   "id": "91505f50",
   "metadata": {},
   "outputs": [],
   "source": [
    "# Create the folder where to save the results\n",
    "\n",
    "os.mkdir(\"examples/Planning/results_planning/\")                         # Path to the results folder"
   ]
  },
  {
   "cell_type": "code",
   "execution_count": null,
   "id": "5127b448",
   "metadata": {},
   "outputs": [],
   "source": [
    "# Save the results as csv file in the previous folder\n",
    "\n",
    "Utopia.to_csv(\n",
    "    path='examples/Planning/results_planning',                          # Path to the destination folder for the results\n",
    "    force_rewrite=True,                                                 # Overwrite the parameters files (True) or not (False)\n",
    "    postprocessing_module=\"aggregated\"                                  # \"default\" and \"aggregated\" are the two options\n",
    ")"
   ]
  },
  {
   "cell_type": "code",
   "execution_count": null,
   "id": "e1242e66",
   "metadata": {},
   "outputs": [],
   "source": [
    "# Create the configuration file for the plots\n",
    "\n",
    "Utopia.create_config_file(\n",
    "    path = 'examples/Planning/config_planning.xlsx'                     # Path to the config file\n",
    ")"
   ]
  },
  {
   "cell_type": "code",
   "execution_count": null,
   "id": "2ce248b9",
   "metadata": {},
   "outputs": [],
   "source": [
    "# Read the configuration file\n",
    "\n",
    "plots = Plotter(\n",
    "    results = Utopia,                                                   # Name of the Model\n",
    "    config = 'examples/Planning/config_planning.xlsx',                  # Path to the config file\n",
    "    hourly_resolution = True,                                           # if model has an hourly resultion otherwise False\n",
    ")"
   ]
  },
  {
   "cell_type": "code",
   "execution_count": null,
   "id": "13c5a726",
   "metadata": {},
   "outputs": [],
   "source": [
    "# Plot the total capacity of each technology in the tech_group in each year and save it in the plots folder \n",
    "\n",
    "plots.plot_total_capacity(\n",
    "    path = 'examples/Planning/plots_planning/totalcapacity.html',       # Path to the folder in which the plot will be saved\n",
    "    tech_group = 'Power Generation',                                    # The group of the techs, reported in the configuration file, to be plotted\n",
    "    kind= \"bar\",                                                        # \"Bar\" or \"Area\" are the two kind of plots accepted\n",
    "    decom_cap=True,                                                     # Decommissioning capacity can be included (True) or not (False)\n",
    "    regions=\"all\",                                                      # The regions considered. \"all\" to consider all of them, [\"reg1\", ...] to consider only some regions\n",
    "    aggregate=False                                                     # True to aggregate the results of each region, False to plot them separately\n",
    ")"
   ]
  },
  {
   "cell_type": "code",
   "execution_count": null,
   "id": "f12d18de",
   "metadata": {},
   "outputs": [],
   "source": [
    "# Plot the new capacity of each technology in the tech_group in each year and save it in the plots folder \n",
    "\n",
    "plots.plot_new_capacity(\n",
    "    path = 'examples/Planning/plots_planning/newcapacity.html',         # Path to the folder in which the plot will be saved\n",
    "    tech_group = 'Power Generation',                                    # The group of the techs, reported in the configuration file, to be plotted\n",
    "    kind=\"bar\",                                                         # \"Bar\" or \"Area\" are the two kind of plots accepted\n",
    "    cummulative=False,                                                  # In each year the cummulative new capacity is plotted (True) or not (False)\n",
    "    regions=\"all\",                                                      # The regions considered. \"all\" to consider all of them, [\"reg1\", ...] to consider only some regions\n",
    "    aggregate=False                                                     # True to aggregate the results of each region, False to plot them separately\n",
    ")\n"
   ]
  },
  {
   "cell_type": "code",
   "execution_count": null,
   "id": "bb6a1d03",
   "metadata": {},
   "outputs": [],
   "source": [
    "# Plot the annual production of each technology in the tech_group in each year and save it in the plots folder \n",
    "\n",
    "plots.plot_prod_by_tech(\n",
    "    path = 'examples/Planning/plots_planning/prod_by_tech.html',        # Path to the folder in which the plot will be saved\n",
    "    tech_group = 'Power Generation',                                    # The group of the techs, reported in the configuration file, to be plotted\n",
    "    kind=\"bar\",                                                         # \"Bar\" or \"Area\" are the two kind of plots accepted\n",
    "    regions=\"all\",                                                      # The regions considered. \"all\" to consider all of them, [\"reg1\", ...] to consider only some regions\n",
    "    aggregate=False                                                     # True to aggregate the results of each region, False to plot them separately\n",
    ")"
   ]
  },
  {
   "cell_type": "code",
   "execution_count": null,
   "id": "6f728da9",
   "metadata": {},
   "outputs": [],
   "source": [
    "# Plot the annual consumption of each carrier in the fuel_group in each year and save it in the plots folder \n",
    "\n",
    "plots.plot_use_by_technology(\n",
    "    path = 'examples/Planning/plots_planning/use_by_tech.html',         # Path to the folder in which the plot will be saved\n",
    "    fuel_group = 'Oil',                                                 # The group of the carriers, reported in the configuration file, to be plotted\n",
    "    kind=\"bar\",                                                         # \"Bar\" or \"Area\" are the two kind of plots accepted\n",
    "    regions=\"all\",                                                      # The regions considered. \"all\" to consider all of them, [\"reg1\", ...] to consider only some regions\n",
    "    aggregate=False                                                     # True to aggregate the results of each region, False to plot them separately\n",
    ")"
   ]
  },
  {
   "cell_type": "code",
   "execution_count": null,
   "id": "27358fa5",
   "metadata": {},
   "outputs": [],
   "source": [
    "# Plot as Pie chart the annual consumption and production of each carrier in the fuel_group for a specific year and save it in the plots folder\n",
    "\n",
    "plots.plot_fuel_prod_cons(\n",
    "    path = 'examples/Planning/plots_planning/prod_con_share__.html',    # Path to the folder in which the plot will be saved\n",
    "    years = [\"Y1\"],                                                     # Year considered \n",
    "    fuel_group = 'Electricity',                                         # The group of the carriers, reported in the configuration file, to be plotted\n",
    "    trade=False,                                                        # Trade can be included (True) or not (False)\n",
    "    regions=\"all\",                                                      # The regions considered. \"all\" to consider all of them, [\"reg1\", ...] to consider only some regions\n",
    "    aggregate=False                                                     # True to aggregate the results of each region, False to plot them separately\n",
    ")"
   ]
  },
  {
   "cell_type": "code",
   "execution_count": null,
   "id": "f7375872",
   "metadata": {},
   "outputs": [],
   "source": [
    "# Plot the annual emission of the emission_type for each technology in the tech_group in each year and save it in the plots folder\n",
    "\n",
    "plots.plot_emissions(\n",
    "    path = 'examples/Planning/plots_planning/emissions.html',           # Path to the folder in which the plot will be saved\n",
    "    tech_group = 'Power Generation',                                    # The group of the techs, reported in the configuration file, to be plotted\n",
    "    emission_type = [\"CO2\"],                                            # The type of the emissions, reported in the configuration file, to be plotted\n",
    "    kind=\"bar\",                                                         # \"Bar\" or \"Area\" are the two kind of plots accepted\n",
    "    regions=\"all\",                                                      # The regions considered. \"all\" to consider all of them, [\"reg1\", ...] to consider only some regions\n",
    "    aggregate=False                                                     # Global emission can be plotted (True) or emission for each region (False)\n",
    ")"
   ]
  },
  {
   "cell_type": "code",
   "execution_count": null,
   "id": "8db6d9c1",
   "metadata": {},
   "outputs": [],
   "source": [
    "# Plot the hourly production of the carrier in the fuel_group for each tech in the tech_group, from the start to the end time\n",
    "\n",
    "plots.plot_hourly_prod_by_tech(\n",
    "    path = 'examples/Planning/plots_planning/hourlyprod.html',          # Path to the folder in which the plot will be saved\n",
    "    tech_group = 'Power Generation',                                    # The group of the techs, reported in the configuration file, to be plotted\n",
    "    fuel_group = 'Electricity',                                         # The group of the carriers, reported in the configuration file, to be plotted\n",
    "    kind = \"bar\",                                                       # \"Bar\" or \"Area\" are the two kind of plots accepted\n",
    "    year = [\"Y2\"],                                                      # Year considered \n",
    "    start=\"01-01-2021 00:00:00\",                                        # Starting day and time \n",
    "    end=\"01-01-2021 23:00:00\",                                          # Ending day and time\n",
    "    regions=\"all\",                                                      # The regions considered. \"all\" to consider all of them, [\"reg1\", ...] to consider only some regions\n",
    "    aggregate=False                                                     # Global emission can be plotted (True) or emission for each region (False)\n",
    ")"
   ]
  },
  {
   "cell_type": "code",
   "execution_count": null,
   "id": "2a3cdeb4",
   "metadata": {},
   "outputs": [],
   "source": [
    "# Plot the annual costs in each year and save it in the plots folder\n",
    "\n",
    "plots.plot_regional_costs(\n",
    "    path = 'examples/Planning/plots_planning/regionalcosts_bytechs.html', # Path to the folder in which the plot will be saved\n",
    "    stacked_by = 'techs',                                                 # Plot can be stacked by \"techs\" or by cost \"items\"\n",
    "    exclude_tech_groups=[],                                               # Excluded tech groups\n",
    "    exclude_cost_items=[],                                                # Excluded cost items\n",
    "    regions=\"all\",                                                        # The regions considered. \"all\" to consider all of them, [\"reg1\", ...] to consider only some regions\n",
    "    aggregate=False                                                       # Global emission can be plotted (True) or emission for each region (False)\n",
    ")"
   ]
  }
 ],
 "metadata": {
  "kernelspec": {
   "display_name": "hypatia",
   "language": "python",
   "name": "python3"
  },
  "language_info": {
   "codemirror_mode": {
    "name": "ipython",
    "version": 3
   },
   "file_extension": ".py",
   "mimetype": "text/x-python",
   "name": "python",
   "nbconvert_exporter": "python",
   "pygments_lexer": "ipython3",
   "version": "3.8.16"
  },
  "vscode": {
   "interpreter": {
    "hash": "3d114b0f206991887c37ed39d850859ee617a2c6c26599d5e115fa9549d96a04"
   }
  }
 },
 "nbformat": 4,
 "nbformat_minor": 5
}
